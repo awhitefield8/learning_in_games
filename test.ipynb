{
 "cells": [
  {
   "cell_type": "code",
   "execution_count": 1,
   "source": [
    "import numpy as np\n",
    "\n",
    "from models import Mw, Firm"
   ],
   "outputs": [],
   "metadata": {}
  },
  {
   "cell_type": "code",
   "execution_count": 29,
   "source": [
    "### players\n",
    "# price setters\n",
    "# consumers - play no regret learning"
   ],
   "outputs": [],
   "metadata": {}
  },
  {
   "cell_type": "code",
   "execution_count": 30,
   "source": [
    "#parameters\n",
    "N = 2\n",
    "Beta = 0.9\n",
    "Nu = 0.1\n",
    "\n",
    "#models\n",
    "firms =  [Firm(i,Beta) for i in range(N)] \n",
    "mw = Mw(N,Nu)"
   ],
   "outputs": [],
   "metadata": {}
  },
  {
   "cell_type": "code",
   "execution_count": 44,
   "source": [
    "#simulate some simple play\n",
    "for i in range(24):\n",
    "    prices = [1,2]\n",
    "    for j in range(len(firms)):\n",
    "        firms[j].updateShares(mw.weights[j]) #update shares\n",
    "        firms[j].setPrice(prices[j]) #update prices\n",
    "    mw.update(np.array(prices))\n",
    "\n",
    "\n",
    "firms[0].dpv()"
   ],
   "outputs": [
    {
     "output_type": "execute_result",
     "data": {
      "text/plain": [
       "6.905574445852342"
      ]
     },
     "metadata": {},
     "execution_count": 44
    }
   ],
   "metadata": {}
  },
  {
   "cell_type": "code",
   "execution_count": 32,
   "source": [],
   "outputs": [],
   "metadata": {}
  },
  {
   "cell_type": "code",
   "execution_count": 43,
   "source": [],
   "outputs": [
    {
     "output_type": "execute_result",
     "data": {
      "text/plain": [
       "6.194112569202769"
      ]
     },
     "metadata": {},
     "execution_count": 43
    }
   ],
   "metadata": {}
  }
 ],
 "metadata": {
  "orig_nbformat": 4,
  "language_info": {
   "name": "python",
   "version": "3.8.8",
   "mimetype": "text/x-python",
   "codemirror_mode": {
    "name": "ipython",
    "version": 3
   },
   "pygments_lexer": "ipython3",
   "nbconvert_exporter": "python",
   "file_extension": ".py"
  },
  "kernelspec": {
   "name": "python3",
   "display_name": "Python 3.8.8 64-bit ('base': conda)"
  },
  "interpreter": {
   "hash": "a894b0d91aa6fdb901c32194035570c2587ca737a18661c5a772d280489dfd59"
  }
 },
 "nbformat": 4,
 "nbformat_minor": 2
}