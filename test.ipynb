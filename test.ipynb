{
 "cells": [
  {
   "cell_type": "code",
   "execution_count": 199,
   "source": [
    "import numpy as np\n",
    "import pandas as pd\n",
    "\n",
    "from models import Mw, Firm\n",
    "#from funcs import snap\n",
    "from scipy.interpolate import interp1d #functional interpolation\n"
   ],
   "outputs": [
    {
     "output_type": "error",
     "ename": "ImportError",
     "evalue": "cannot import name 'inverse_mw' from 'funcs' (/Users/Aex/Desktop/Research/NoRegretLearning/funcs.py)",
     "traceback": [
      "\u001b[0;31m---------------------------------------------------------------------------\u001b[0m",
      "\u001b[0;31mImportError\u001b[0m                               Traceback (most recent call last)",
      "\u001b[0;32m<ipython-input-199-3cfd8b9bf5b9>\u001b[0m in \u001b[0;36m<module>\u001b[0;34m\u001b[0m\n\u001b[1;32m      3\u001b[0m \u001b[0;34m\u001b[0m\u001b[0m\n\u001b[1;32m      4\u001b[0m \u001b[0;32mfrom\u001b[0m \u001b[0mmodels\u001b[0m \u001b[0;32mimport\u001b[0m \u001b[0mMw\u001b[0m\u001b[0;34m,\u001b[0m \u001b[0mFirm\u001b[0m\u001b[0;34m\u001b[0m\u001b[0;34m\u001b[0m\u001b[0m\n\u001b[0;32m----> 5\u001b[0;31m \u001b[0;32mfrom\u001b[0m \u001b[0mfuncs\u001b[0m \u001b[0;32mimport\u001b[0m \u001b[0minverse_mw\u001b[0m\u001b[0;34m\u001b[0m\u001b[0;34m\u001b[0m\u001b[0m\n\u001b[0m",
      "\u001b[0;31mImportError\u001b[0m: cannot import name 'inverse_mw' from 'funcs' (/Users/Aex/Desktop/Research/NoRegretLearning/funcs.py)"
     ]
    }
   ],
   "metadata": {}
  },
  {
   "cell_type": "code",
   "execution_count": 29,
   "source": [
    "### players\n",
    "# price setters\n",
    "# consumers - play no regret learning"
   ],
   "outputs": [],
   "metadata": {}
  },
  {
   "cell_type": "code",
   "execution_count": 196,
   "source": [
    "#parameters\n",
    "N = 2\n",
    "Beta = 0.9\n",
    "Nu = 0.1\n",
    "\n",
    "#models\n",
    "firms =  [Firm(i,Beta) for i in range(N)] \n",
    "mw = Mw(N,Nu)"
   ],
   "outputs": [],
   "metadata": {}
  },
  {
   "cell_type": "code",
   "execution_count": 45,
   "source": [
    "#simulate some simple play\n",
    "for i in range(24):\n",
    "    prices = [1,2]\n",
    "    for j in range(len(firms)):\n",
    "        firms[j].updateShares(mw.weights[j]) #update shares\n",
    "        firms[j].setPrice(prices[j]) #update prices\n",
    "    mw.update(np.array(prices))\n",
    "\n",
    "firms[0].dpv()"
   ],
   "outputs": [
    {
     "output_type": "execute_result",
     "data": {
      "text/plain": [
       "6.96401530498293"
      ]
     },
     "metadata": {},
     "execution_count": 45
    }
   ],
   "metadata": {}
  },
  {
   "cell_type": "code",
   "execution_count": 395,
   "source": [
    "### code up policy iteration\n",
    "\n",
    "\n",
    "#setup\n",
    "n_points = 10\n",
    "s_list = [ (1/(n_points))*(i+1) for i in range(0,n_points)]  #values for weights\n",
    "p_list = [ (1/(n_points))*(i+1) for i in range(0,n_points)] #values for prices - allows the boundaries\n",
    "v0 = [1]*len(s_list)\n",
    "\n",
    "#hardcoded for now, but will make functions later\n",
    "policyB = 0.1 ## policy for player 2 - make deterministic for now\n",
    "Beta = 0.9\n",
    "Nu = 0.2"
   ],
   "outputs": [],
   "metadata": {}
  },
  {
   "cell_type": "code",
   "execution_count": 399,
   "source": [
    "# lets try it like a function\n",
    "v_curr = v0\n",
    "p_curr = [1]*len(s_list) #policy function ('grid')\n",
    "\n",
    "\n",
    "\n",
    "### idea: start with a grid of states. generate\n",
    "# i) an interpolated value function (for the player to estimte future values)\n",
    "# ii) an interpolated policy function (to simulate the other players play)\n",
    "\n",
    "\n",
    "for i in range(100):\n",
    "    #loop through states, and for each, pick an optimal policy, and update corresponding value\n",
    "    v_new = [-1]*len(v_curr) #prep new list\n",
    "    # define functions for analysis\n",
    "    interp_v_func = interp1d(s_list, #grid points\n",
    "                             v_curr, #values\n",
    "                              kind='linear', fill_value='extrapolate')\n",
    "    interp_p_func = interp1d(s_list, #grid points\n",
    "                             p_curr, #price function\n",
    "                             kind='linear', fill_value='extrapolate') #we use thids for other player!\n",
    "    for j in range(len(s_list)):\n",
    "        s = s_list[j]\n",
    "        values = [-1]*len(p_list)\n",
    "        for i in range(len(p_list)):\n",
    "            p = p_list[i]\n",
    "            flow_u = p*s\n",
    "            new_weight_a = s*(1 - (Nu*p))\n",
    "            #new_weight_b = (1-s)*(1 - (Nu*policyB))\n",
    "            new_weight_b = (1-s)*(1 - (Nu*interp_p_func(1-s)))\n",
    "            new_state = new_weight_a / (new_weight_a + new_weight_b)\n",
    "            #future_u = Beta*v_curr[snap(new_state,s_list)]\n",
    "            future_u = Beta*interp_v_func(new_state)\n",
    "            ### interpolating function\n",
    "            values[i]= flow_u + future_u\n",
    "        v_new[j] = np.array(values).max()\n",
    "        p_curr[j] = p_list[np.array(values).argmax()]\n",
    "    v_curr = v_new\n",
    "\n",
    "\n",
    "\n"
   ],
   "outputs": [],
   "metadata": {}
  },
  {
   "cell_type": "code",
   "execution_count": 400,
   "source": [
    "s_list"
   ],
   "outputs": [
    {
     "output_type": "execute_result",
     "data": {
      "text/plain": [
       "[0.1,\n",
       " 0.2,\n",
       " 0.30000000000000004,\n",
       " 0.4,\n",
       " 0.5,\n",
       " 0.6000000000000001,\n",
       " 0.7000000000000001,\n",
       " 0.8,\n",
       " 0.9,\n",
       " 1.0]"
      ]
     },
     "metadata": {},
     "execution_count": 400
    }
   ],
   "metadata": {}
  },
  {
   "cell_type": "code",
   "execution_count": 401,
   "source": [
    "#policy as a function of states\n",
    "p_curr"
   ],
   "outputs": [
    {
     "output_type": "execute_result",
     "data": {
      "text/plain": [
       "[0.1, 0.1, 0.1, 0.4, 1.0, 1.0, 1.0, 1.0, 1.0, 1.0]"
      ]
     },
     "metadata": {},
     "execution_count": 401
    }
   ],
   "metadata": {}
  },
  {
   "cell_type": "code",
   "execution_count": 402,
   "source": [
    "v_curr"
   ],
   "outputs": [
    {
     "output_type": "execute_result",
     "data": {
      "text/plain": [
       "[1.7076232208420947,\n",
       " 2.6096278186089488,\n",
       " 3.3868414288230553,\n",
       " 4.161754219520731,\n",
       " 4.999893754404451,\n",
       " 5.246405382311428,\n",
       " 5.598256667501147,\n",
       " 6.1839534599898185,\n",
       " 7.1960093303109,\n",
       " 9.999760947410016]"
      ]
     },
     "metadata": {},
     "execution_count": 402
    }
   ],
   "metadata": {}
  }
 ],
 "metadata": {
  "orig_nbformat": 4,
  "language_info": {
   "name": "python",
   "version": "3.8.8",
   "mimetype": "text/x-python",
   "codemirror_mode": {
    "name": "ipython",
    "version": 3
   },
   "pygments_lexer": "ipython3",
   "nbconvert_exporter": "python",
   "file_extension": ".py"
  },
  "kernelspec": {
   "name": "python3",
   "display_name": "Python 3.8.8 64-bit ('base': conda)"
  },
  "interpreter": {
   "hash": "a894b0d91aa6fdb901c32194035570c2587ca737a18661c5a772d280489dfd59"
  }
 },
 "nbformat": 4,
 "nbformat_minor": 2
}